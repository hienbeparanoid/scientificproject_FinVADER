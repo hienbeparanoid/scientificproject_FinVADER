{
 "cells": [
  {
   "cell_type": "code",
   "execution_count": 1,
   "metadata": {},
   "outputs": [],
   "source": [
    "\n",
    "import pandas as pd\n",
    "import os"
   ]
  },
  {
   "cell_type": "code",
   "execution_count": 2,
   "metadata": {},
   "outputs": [],
   "source": [
    "def merge_files(directory, keyword):\n",
    "    # Get the current working directory\n",
    "    cwd = os.getcwd()\n",
    "    # Create the path to the 'cmt' directory\n",
    "    directory_path = os.path.join(cwd, directory)\n",
    "\n",
    "    # Get a list of all the file paths in the directory\n",
    "    file_paths = [os.path.join(directory_path, filename) for filename in os.listdir(directory_path) if filename.endswith('.csv') and keyword in filename]\n",
    "\n",
    "    # Read each file into a DataFrame and add it to the list\n",
    "    dfs = [pd.read_csv(file_path) for file_path in file_paths]\n",
    "\n",
    "    # Concatenate all the DataFrames in the list\n",
    "    df = pd.concat(dfs, ignore_index=True)\n",
    "\n",
    "    return df"
   ]
  },
  {
   "cell_type": "code",
   "execution_count": 3,
   "metadata": {},
   "outputs": [],
   "source": [
    "# Read the files into DataFrames\n",
    "df1 = pd.read_csv('stockmarket_tsla_comments2.csv')\n",
    "df2 = pd.read_csv('stocks_tsla_comments2.csv')\n",
    "df3 = pd.read_csv('wallstreetbets_tsla_comments2.csv')\n",
    "\n",
    "# Concatenate the DataFrames along the row axis (i.e., one below the other)\n",
    "df = pd.concat([df1, df2, df3])\n",
    "\n",
    "# Save the merged DataFrame to a new file\n",
    "df.to_csv('tsla_merged.csv', index=False)"
   ]
  }
 ],
 "metadata": {
  "kernelspec": {
   "display_name": "Python 3",
   "language": "python",
   "name": "python3"
  },
  "language_info": {
   "codemirror_mode": {
    "name": "ipython",
    "version": 3
   },
   "file_extension": ".py",
   "mimetype": "text/x-python",
   "name": "python",
   "nbconvert_exporter": "python",
   "pygments_lexer": "ipython3",
   "version": "3.11.8"
  }
 },
 "nbformat": 4,
 "nbformat_minor": 2
}
