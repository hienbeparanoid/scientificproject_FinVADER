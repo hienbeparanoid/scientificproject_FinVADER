{
 "cells": [
  {
   "cell_type": "code",
   "execution_count": 1,
   "metadata": {
    "colab": {
     "base_uri": "https://localhost:8080/"
    },
    "id": "vb1wCgrWcGAX",
    "outputId": "918cecf8-03c0-458c-fb8e-1da7577abd0e"
   },
   "outputs": [
    {
     "name": "stdout",
     "output_type": "stream",
     "text": [
      "Requirement already satisfied: newsapi-python in c:\\users\\admin\\anaconda3\\lib\\site-packages (0.2.7)\n",
      "Requirement already satisfied: requests<3.0.0 in c:\\users\\admin\\anaconda3\\lib\\site-packages (from newsapi-python) (2.31.0)\n",
      "Requirement already satisfied: charset-normalizer<4,>=2 in c:\\users\\admin\\anaconda3\\lib\\site-packages (from requests<3.0.0->newsapi-python) (2.0.4)\n",
      "Requirement already satisfied: urllib3<3,>=1.21.1 in c:\\users\\admin\\anaconda3\\lib\\site-packages (from requests<3.0.0->newsapi-python) (1.26.11)\n",
      "Requirement already satisfied: idna<4,>=2.5 in c:\\users\\admin\\anaconda3\\lib\\site-packages (from requests<3.0.0->newsapi-python) (3.3)\n",
      "Requirement already satisfied: certifi>=2017.4.17 in c:\\users\\admin\\anaconda3\\lib\\site-packages (from requests<3.0.0->newsapi-python) (2022.9.14)\n"
     ]
    }
   ],
   "source": [
    "!pip install newsapi-python"
   ]
  },
  {
   "cell_type": "code",
   "execution_count": 2,
   "metadata": {
    "colab": {
     "base_uri": "https://localhost:8080/"
    },
    "id": "VFd7UY1BcKY2",
    "outputId": "f08cbb85-1bb4-4a0a-b556-e26525a8ee5c"
   },
   "outputs": [
    {
     "name": "stdout",
     "output_type": "stream",
     "text": [
      "Requirement already satisfied: yfinance in c:\\users\\admin\\anaconda3\\lib\\site-packages (0.2.36)\n",
      "Requirement already satisfied: lxml>=4.9.1 in c:\\users\\admin\\anaconda3\\lib\\site-packages (from yfinance) (4.9.1)\n",
      "Requirement already satisfied: html5lib>=1.1 in c:\\users\\admin\\anaconda3\\lib\\site-packages (from yfinance) (1.1)\n",
      "Requirement already satisfied: pytz>=2022.5 in c:\\users\\admin\\anaconda3\\lib\\site-packages (from yfinance) (2024.1)\n",
      "Requirement already satisfied: appdirs>=1.4.4 in c:\\users\\admin\\anaconda3\\lib\\site-packages (from yfinance) (1.4.4)\n",
      "Requirement already satisfied: numpy>=1.16.5 in c:\\users\\admin\\anaconda3\\lib\\site-packages (from yfinance) (1.21.5)\n",
      "Requirement already satisfied: pandas>=1.3.0 in c:\\users\\admin\\anaconda3\\lib\\site-packages (from yfinance) (1.4.4)\n",
      "Requirement already satisfied: frozendict>=2.3.4 in c:\\users\\admin\\anaconda3\\lib\\site-packages (from yfinance) (2.4.0)\n",
      "Requirement already satisfied: beautifulsoup4>=4.11.1 in c:\\users\\admin\\anaconda3\\lib\\site-packages (from yfinance) (4.11.1)\n",
      "Requirement already satisfied: requests>=2.31 in c:\\users\\admin\\anaconda3\\lib\\site-packages (from yfinance) (2.31.0)\n",
      "Requirement already satisfied: multitasking>=0.0.7 in c:\\users\\admin\\anaconda3\\lib\\site-packages (from yfinance) (0.0.11)\n",
      "Requirement already satisfied: peewee>=3.16.2 in c:\\users\\admin\\anaconda3\\lib\\site-packages (from yfinance) (3.17.1)\n",
      "Requirement already satisfied: soupsieve>1.2 in c:\\users\\admin\\anaconda3\\lib\\site-packages (from beautifulsoup4>=4.11.1->yfinance) (2.3.1)\n",
      "Requirement already satisfied: webencodings in c:\\users\\admin\\anaconda3\\lib\\site-packages (from html5lib>=1.1->yfinance) (0.5.1)\n",
      "Requirement already satisfied: six>=1.9 in c:\\users\\admin\\anaconda3\\lib\\site-packages (from html5lib>=1.1->yfinance) (1.16.0)\n",
      "Requirement already satisfied: python-dateutil>=2.8.1 in c:\\users\\admin\\anaconda3\\lib\\site-packages (from pandas>=1.3.0->yfinance) (2.8.2)\n",
      "Requirement already satisfied: certifi>=2017.4.17 in c:\\users\\admin\\anaconda3\\lib\\site-packages (from requests>=2.31->yfinance) (2022.9.14)\n",
      "Requirement already satisfied: charset-normalizer<4,>=2 in c:\\users\\admin\\anaconda3\\lib\\site-packages (from requests>=2.31->yfinance) (2.0.4)\n",
      "Requirement already satisfied: urllib3<3,>=1.21.1 in c:\\users\\admin\\anaconda3\\lib\\site-packages (from requests>=2.31->yfinance) (1.26.11)\n",
      "Requirement already satisfied: idna<4,>=2.5 in c:\\users\\admin\\anaconda3\\lib\\site-packages (from requests>=2.31->yfinance) (3.3)\n"
     ]
    }
   ],
   "source": [
    "!pip install yfinance"
   ]
  },
  {
   "cell_type": "code",
   "execution_count": 3,
   "metadata": {
    "colab": {
     "base_uri": "https://localhost:8080/"
    },
    "id": "wGBo-V-XcM7f",
    "outputId": "0c1d0d2f-57d6-47d8-cba3-d4848d68511a"
   },
   "outputs": [
    {
     "name": "stderr",
     "output_type": "stream",
     "text": [
      "[nltk_data] Downloading package vader_lexicon to\n",
      "[nltk_data]     C:\\Users\\ADMIN\\AppData\\Roaming\\nltk_data...\n",
      "[nltk_data]   Package vader_lexicon is already up-to-date!\n"
     ]
    }
   ],
   "source": [
    "import nltk\n",
    "### Uncomment it when the script runs for the first time\n",
    "nltk.download('vader_lexicon')\n",
    "\n",
    "import matplotlib.pyplot as plt\n",
    "import numpy as np\n",
    "import pandas as pd"
   ]
  },
  {
   "cell_type": "code",
   "execution_count": 4,
   "metadata": {
    "id": "ZaFJgBdwcR6X"
   },
   "outputs": [],
   "source": [
    "from newsapi.newsapi_client import NewsApiClient\n",
    "#from newsapi.newsapi_client import NewsApiClient\n",
    "from datetime import date, timedelta, datetime\n",
    "\n",
    "from nltk.sentiment.vader import SentimentIntensityAnalyzer\n",
    "sia = SentimentIntensityAnalyzer()"
   ]
  },
  {
   "cell_type": "code",
   "execution_count": 5,
   "metadata": {
    "id": "J6BUmczHcW7h"
   },
   "outputs": [],
   "source": [
    "NEWS_API_KEY ='43cf0bd9d87741ff86b8c1691674b018'"
   ]
  },
  {
   "cell_type": "code",
   "execution_count": 6,
   "metadata": {
    "id": "d8zosuTucnng"
   },
   "outputs": [],
   "source": [
    "newsapi = NewsApiClient(api_key= NEWS_API_KEY)\n",
    "keywrd = 'TSLA stock'\n",
    "my_date = (datetime.now() - timedelta(days=7)).date()\n",
    "\n",
    "articles = newsapi.get_everything(q = keywrd,\n",
    "                                      from_param = my_date.isoformat(),\n",
    "                                      to = (my_date + timedelta(days = 1)).isoformat(),\n",
    "                                      language=\"en\",\n",
    "                                      #sources = \",\".join(sources_list),\n",
    "                                      sort_by=\"relevancy\",\n",
    "                                      page_size = 100)\n"
   ]
  },
  {
   "cell_type": "code",
   "execution_count": 7,
   "metadata": {
    "colab": {
     "base_uri": "https://localhost:8080/"
    },
    "id": "J-7TK99acogp",
    "outputId": "30e829d7-5fbc-40cb-e2ec-7a77e93bbc96"
   },
   "outputs": [
    {
     "data": {
      "text/plain": [
       "{'status': 'ok',\n",
       " 'totalResults': 7,\n",
       " 'articles': [{'source': {'id': None, 'name': 'Forbes'},\n",
       "   'author': 'Bill Stone, Contributor, \\n Bill Stone, Contributor\\n https://www.forbes.com/sites/bill_stone/',\n",
       "   'title': 'Stocks Rise Despite Higher Bond Yields',\n",
       "   'description': 'Improving expectations for economic growth sent yields higher and rate cut odds lower. CPI and retail sales this week will be crucial for the timing of future Fed easing.',\n",
       "   'url': 'https://www.forbes.com/sites/bill_stone/2024/02/11/stocks-rise-despite-higher-bond-yields/',\n",
       "   'urlToImage': 'https://imageio.forbes.com/specials-images/imageserve/65c7ba865e6b8ea79a1e4505/0x0.jpg?format=jpg&height=900&width=1600&fit=bounds',\n",
       "   'publishedAt': '2024-02-11T12:00:00Z',\n",
       "   'content': 'The 10-year U.S. Treasury yield has risen 30 basis points, 0.3 percentage points, year-to-date. The ... [+] probability of a Federal Reserve rate cut in the first half of the year has fallen.\\r\\ngetty\\r… [+4648 chars]'},\n",
       "  {'source': {'id': None, 'name': 'Biztoc.com'},\n",
       "   'author': 'investorplace.com',\n",
       "   'title': 'The Worst-Performing S&P 500 Stock in 2024: Will It Be Tesla?',\n",
       "   'description': 'The TSLA stock forecast might not be good, but its EV leadership counts for something Life is getting more complicated for Tesla (NASDAQ: ) and Elon Musk as the TSLA stock forecast gets hazier by the day. Once the darling of the Magnificent Seven, if the stoc…',\n",
       "   'url': 'https://biztoc.com/x/4932ea2a856cca5e',\n",
       "   'urlToImage': 'https://c.biztoc.com/p/4932ea2a856cca5e/s.webp',\n",
       "   'publishedAt': '2024-02-11T15:38:14Z',\n",
       "   'content': 'The TSLA stock forecast might not be good, but its EV leadership counts for somethingLife is getting more complicated for Tesla (NASDAQ: ) and Elon Musk as the TSLA stock forecast gets hazier by the … [+288 chars]'},\n",
       "  {'source': {'id': None, 'name': 'Biztoc.com'},\n",
       "   'author': 'finance.yahoo.com',\n",
       "   'title': 'The Truth About Tesla Stock: Should You Buy Now?',\n",
       "   'description': \"In this week's video, I cover need-to-know news items related to Tesla (NASDAQ: TSLA) during the week of Feb. 5. Today's video will focus on Tesla's sales numbers in China, Europe, and the United States and look at Tesla stock from a technical analysis standp…\",\n",
       "   'url': 'https://biztoc.com/x/03262f03a85aff0c',\n",
       "   'urlToImage': 'https://c.biztoc.com/p/03262f03a85aff0c/s.webp',\n",
       "   'publishedAt': '2024-02-11T16:06:08Z',\n",
       "   'content': \"In this week's video, I cover need-to-know news items related to Tesla (NASDAQ: TSLA) during the week of Feb. 5. Today's video will focus on Tesla's sales numbers in China, Europe, and the United Sta… [+251 chars]\"},\n",
       "  {'source': {'id': None, 'name': 'Biztoc.com'},\n",
       "   'author': 'finance.yahoo.com',\n",
       "   'title': 'Cathie Wood Just Keeps Buying More of This Magnificent AI Stock',\n",
       "   'description': \"She's at it again: Cathie Wood, the head of Ark Invest, is snapping up shares of Tesla (NASDAQ: TSLA) with purchases worth more than $160 million so far in 2024. Is it a brilliant move or a huge mistake? Here's what you need to know. As noted above, Wood and …\",\n",
       "   'url': 'https://biztoc.com/x/ac7091786df4f502',\n",
       "   'urlToImage': 'https://c.biztoc.com/p/ac7091786df4f502/s.webp',\n",
       "   'publishedAt': '2024-02-11T13:30:11Z',\n",
       "   'content': \"She's at it again: Cathie Wood, the head of Ark Invest, is snapping up shares of Tesla (NASDAQ: TSLA) with purchases worth more than $160 million so far in 2024.Is it a brilliant move or a huge mista… [+293 chars]\"},\n",
       "  {'source': {'id': None, 'name': 'Tistory.com'},\n",
       "   'author': 'T.B',\n",
       "   'title': '국가의 지도자와 기업의 오너에 관한 상관관계',\n",
       "   'description': '흔히들 \\'스쿼트, 크로스핏, 파워리프팅 슈즈\\'로 알려진 \\'역도화\\'하면 \\'아디다스, 나이키\\'를 신습니다. 하지만, 10여 년 전 매니아들 사이 유행처럼 번졌던 (TSLA)\\'안 타\\'라는 브랜드가 있습니다. 중국의 무서운 점이 바로 이런 것들입니다. BREAKING: Tesla has announced temporary Model Y price cuts in the U.S. \"New Model Y RWD and Long Range AWD prices reduced …',\n",
       "   'url': 'https://ryueyes11.tistory.com/17650',\n",
       "   'urlToImage': 'https://img1.daumcdn.net/thumb/R800x0/?scode=mtistory2&fname=https%3A%2F%2Fblog.kakaocdn.net%2Fdn%2FbzjTnH%2FbtsEExlzgRP%2FDT4cogUknvvqgKrwcNe120%2Fimg.jpg',\n",
       "   'publishedAt': '2024-02-10T21:02:51Z',\n",
       "   'content': '\\', , \\' \\'\\' \\', \\' . , 10 (TSLA)\\'\\' . .\\r\\nBREAKING: Tesla has announced temporary Model Y price cuts in the U.S.\\r\\n\"New Model Y RWD and Long Range AWD prices reduced for deliveries now through February 29. … [+2951 chars]'},\n",
       "  {'source': {'id': None, 'name': 'ETF Daily News'},\n",
       "   'author': 'MarketBeat News',\n",
       "   'title': 'WealthPlan Investment Management LLC Has $3.22 Million Stock Holdings in Tesla, Inc. (NASDAQ:TSLA)',\n",
       "   'description': 'WealthPlan Investment Management LLC boosted its position in Tesla, Inc. (NASDAQ:TSLA – Free Report) by 20,641.9% in the 3rd quarter, HoldingsChannel.com reports. The firm owned 12,860 shares of the electric vehicle producer’s stock after buying an additional…',\n",
       "   'url': 'https://www.etfdailynews.com/2024/02/10/wealthplan-investment-management-llc-has-3-22-million-stock-holdings-in-tesla-inc-nasdaqtsla/',\n",
       "   'urlToImage': 'https://www.americanbankingnews.com/wp-content/timthumb/timthumb.php?src=https://www.marketbeat.com/logos/tesla-inc-logo-1200x675.png?v=20221020135629&w=240&h=240&zc=2',\n",
       "   'publishedAt': '2024-02-10T10:12:42Z',\n",
       "   'content': 'WealthPlan Investment Management LLC boosted its position in Tesla, Inc. (NASDAQ:TSLA – Free Report) by 20,641.9% in the 3rd quarter, HoldingsChannel.com reports. The firm owned 12,860 shares of the … [+6176 chars]'},\n",
       "  {'source': {'id': None, 'name': 'Americanthinker.com'},\n",
       "   'author': None,\n",
       "   'title': 'Analysis of an asset bubble',\n",
       "   'description': 'In 2000, the Nasdaq stock market index, in a massive dot-com bubble, hit 5,133. Investors were buying up everything, despite little to no revenue or earnings. By 2002, the index had dropped 78%, which is a decline to 1,129.\\xa0\\r\\n\\r\\nThe Nasdaq index ...',\n",
       "   'url': 'https://www.americanthinker.com/blog/2024/02/analysis_of_an_asset_bubble.html',\n",
       "   'urlToImage': 'https://www.americanthinker.com/images/bucket/2024-02/252012.jpg',\n",
       "   'publishedAt': '2024-02-10T06:00:00Z',\n",
       "   'content': 'In 2000, the Nasdaq stock market index, in a massive dot-com bubble, hit 5,133. Investors were buying up everything, despite little to no revenue or earnings. By 2002, the index had dropped 78%, whic… [+3770 chars]'}]}"
      ]
     },
     "execution_count": 7,
     "metadata": {},
     "output_type": "execute_result"
    }
   ],
   "source": [
    "\n",
    "articles\n"
   ]
  },
  {
   "cell_type": "code",
   "execution_count": 8,
   "metadata": {
    "id": "jmqd8nhfdBCi"
   },
   "outputs": [],
   "source": [
    "def get_articles_sentiments(keywrd, startd, sources_list = None, show_all_articles = False):\n",
    "\n",
    "  newsapi = NewsApiClient(api_key= NEWS_API_KEY)\n",
    "  if type(startd) == str:\n",
    "    my_date = datetime.strptime(startd,'%d-%b-%Y')\n",
    "  else:\n",
    "    my_date = startd\n",
    "  # business_en_sources = get_sources('business','en')\n",
    "  if sources_list:\n",
    "    articles = newsapi.get_everything(q = keywrd,\n",
    "                                      from_param = my_date.isoformat(),\n",
    "                                      to = (my_date + timedelta(days = 1)).isoformat(),\n",
    "                                      language=\"en\",\n",
    "                                      sources = \",\".join(sources_list),\n",
    "                                      sort_by=\"relevancy\",\n",
    "                                      page_size = 100)\n",
    "  else:\n",
    "     articles = newsapi.get_everything(q = keywrd,\n",
    "                                       from_param = my_date.isoformat(),\n",
    "                                       to = (my_date + timedelta(days = 1)).isoformat(),\n",
    "                                       language=\"en\",\n",
    "                                       sort_by=\"relevancy\",\n",
    "                                       page_size = 100)\n",
    "  article_content = ''\n",
    "\n",
    "  date_sentiments = {}\n",
    "  date_sentiments_list = []\n",
    "  seen = set()\n",
    "\n",
    "  for article in articles['articles']:\n",
    "    if str(article['title']) in seen:\n",
    "      continue\n",
    "    else:\n",
    "      seen.add(str(article['title']))\n",
    "      article_content = str(article['title']) + '. ' + str(article['description'])\n",
    "\n",
    "      sentiment = sia.polarity_scores(article_content)['compound']\n",
    "      date_sentiments.setdefault(my_date, []).append(sentiment)\n",
    "      date_sentiments_list.append((sentiment, article['url'],article['title'],article['description']))\n",
    "  date_sentiments_l = sorted(date_sentiments_list, key=lambda tup: tup[0],reverse=True)\n",
    "  sent_list = list(date_sentiments.values())[0]\n",
    "\n",
    "  return pd.DataFrame(date_sentiments_list, columns=['Sentiment','URL','Title','Description'])"
   ]
  },
  {
   "cell_type": "code",
   "execution_count": 9,
   "metadata": {
    "colab": {
     "base_uri": "https://localhost:8080/",
     "height": 968
    },
    "id": "ZFf7ehJfdLaL",
    "outputId": "126f9277-16bf-40af-8286-3295164eb935"
   },
   "outputs": [
    {
     "name": "stdout",
     "output_type": "stream",
     "text": [
      "0.5547285714285715\n",
      "7\n",
      "0    Improving expectations for economic growth sen...\n",
      "1    The TSLA stock forecast might not be good, but...\n",
      "2    In this week's video, I cover need-to-know new...\n",
      "3    She's at it again: Cathie Wood, the head of Ar...\n",
      "4    흔히들 '스쿼트, 크로스핏, 파워리프팅 슈즈'로 알려진 '역도화'하면 '아디다스, ...\n",
      "5    WealthPlan Investment Management LLC boosted i...\n",
      "6    In 2000, the Nasdaq stock market index, in a m...\n",
      "Name: Description, dtype: object\n"
     ]
    },
    {
     "data": {
      "image/png": "[encoded data removed]",
      "text/plain": [
       "<Figure size 640x480 with 1 Axes>"
      ]
     },
     "metadata": {},
     "output_type": "display_data"
    }
   ],
   "source": [
    "dt = (datetime.now() - timedelta(days=7)).strftime(\"%d-%b-%Y\")\n",
    "return_articles = get_articles_sentiments(keywrd= 'TSLA stock', startd = dt, sources_list = None, show_all_articles= True)\n",
    "return_articles.Sentiment.hist(bins=30,grid=False)\n",
    "print(return_articles.Sentiment.mean())\n",
    "print(return_articles.Sentiment.count())\n",
    "print(return_articles.Description)"
   ]
  },
  {
   "cell_type": "code",
   "execution_count": 10,
   "metadata": {
    "colab": {
     "base_uri": "https://localhost:8080/",
     "height": 206
    },
    "id": "9WdxS7k6dTfV",
    "outputId": "f552431f-8a53-4685-b6b5-484ed0829819"
   },
   "outputs": [
    {
     "data": {
      "text/html": [
       "<div>\n",
       "<style scoped>\n",
       "    .dataframe tbody tr th:only-of-type {\n",
       "        vertical-align: middle;\n",
       "    }\n",
       "\n",
       "    .dataframe tbody tr th {\n",
       "        vertical-align: top;\n",
       "    }\n",
       "\n",
       "    .dataframe thead th {\n",
       "        text-align: right;\n",
       "    }\n",
       "</style>\n",
       "<table border=\"1\" class=\"dataframe\">\n",
       "  <thead>\n",
       "    <tr style=\"text-align: right;\">\n",
       "      <th></th>\n",
       "      <th>Sentiment</th>\n",
       "      <th>URL</th>\n",
       "      <th>Description</th>\n",
       "      <th>Title</th>\n",
       "    </tr>\n",
       "  </thead>\n",
       "  <tbody>\n",
       "    <tr>\n",
       "      <th>4</th>\n",
       "      <td>-0.2960</td>\n",
       "      <td>https://ryueyes11.tistory.com/17650</td>\n",
       "      <td>흔히들 '스쿼트, 크로스핏, 파워리프팅 슈즈'로 알려진 '역도화'하면 '아디다스, ...</td>\n",
       "      <td>국가의 지도자와 기업의 오너에 관한 상관관계</td>\n",
       "    </tr>\n",
       "    <tr>\n",
       "      <th>0</th>\n",
       "      <td>0.4767</td>\n",
       "      <td>https://www.forbes.com/sites/bill_stone/2024/0...</td>\n",
       "      <td>Improving expectations for economic growth sen...</td>\n",
       "      <td>Stocks Rise Despite Higher Bond Yields</td>\n",
       "    </tr>\n",
       "    <tr>\n",
       "      <th>6</th>\n",
       "      <td>0.4909</td>\n",
       "      <td>https://www.americanthinker.com/blog/2024/02/a...</td>\n",
       "      <td>In 2000, the Nasdaq stock market index, in a m...</td>\n",
       "      <td>Analysis of an asset bubble</td>\n",
       "    </tr>\n",
       "    <tr>\n",
       "      <th>2</th>\n",
       "      <td>0.6249</td>\n",
       "      <td>https://biztoc.com/x/03262f03a85aff0c</td>\n",
       "      <td>In this week's video, I cover need-to-know new...</td>\n",
       "      <td>The Truth About Tesla Stock: Should You Buy Now?</td>\n",
       "    </tr>\n",
       "    <tr>\n",
       "      <th>5</th>\n",
       "      <td>0.7906</td>\n",
       "      <td>https://www.etfdailynews.com/2024/02/10/wealth...</td>\n",
       "      <td>WealthPlan Investment Management LLC boosted i...</td>\n",
       "      <td>WealthPlan Investment Management LLC Has $3.22...</td>\n",
       "    </tr>\n",
       "  </tbody>\n",
       "</table>\n",
       "</div>"
      ],
      "text/plain": [
       "   Sentiment                                                URL  \\\n",
       "4    -0.2960                https://ryueyes11.tistory.com/17650   \n",
       "0     0.4767  https://www.forbes.com/sites/bill_stone/2024/0...   \n",
       "6     0.4909  https://www.americanthinker.com/blog/2024/02/a...   \n",
       "2     0.6249              https://biztoc.com/x/03262f03a85aff0c   \n",
       "5     0.7906  https://www.etfdailynews.com/2024/02/10/wealth...   \n",
       "\n",
       "                                         Description  \\\n",
       "4  흔히들 '스쿼트, 크로스핏, 파워리프팅 슈즈'로 알려진 '역도화'하면 '아디다스, ...   \n",
       "0  Improving expectations for economic growth sen...   \n",
       "6  In 2000, the Nasdaq stock market index, in a m...   \n",
       "2  In this week's video, I cover need-to-know new...   \n",
       "5  WealthPlan Investment Management LLC boosted i...   \n",
       "\n",
       "                                               Title  \n",
       "4                           국가의 지도자와 기업의 오너에 관한 상관관계  \n",
       "0             Stocks Rise Despite Higher Bond Yields  \n",
       "6                        Analysis of an asset bubble  \n",
       "2   The Truth About Tesla Stock: Should You Buy Now?  \n",
       "5  WealthPlan Investment Management LLC Has $3.22...  "
      ]
     },
     "execution_count": 10,
     "metadata": {},
     "output_type": "execute_result"
    }
   ],
   "source": [
    "return_articles.sort_values(by='Sentiment', ascending=True)[['Sentiment','URL', 'Description','Title']].head()"
   ]
  },
  {
   "cell_type": "code",
   "execution_count": 11,
   "metadata": {
    "colab": {
     "base_uri": "https://localhost:8080/",
     "height": 206
    },
    "id": "zssLKCWu-oQ5",
    "outputId": "4a3a0d10-91ab-46c2-dd5f-394f8e0af482"
   },
   "outputs": [
    {
     "data": {
      "text/html": [
       "<div>\n",
       "<style scoped>\n",
       "    .dataframe tbody tr th:only-of-type {\n",
       "        vertical-align: middle;\n",
       "    }\n",
       "\n",
       "    .dataframe tbody tr th {\n",
       "        vertical-align: top;\n",
       "    }\n",
       "\n",
       "    .dataframe thead th {\n",
       "        text-align: right;\n",
       "    }\n",
       "</style>\n",
       "<table border=\"1\" class=\"dataframe\">\n",
       "  <thead>\n",
       "    <tr style=\"text-align: right;\">\n",
       "      <th></th>\n",
       "      <th>Sentiment</th>\n",
       "      <th>URL</th>\n",
       "      <th>Description</th>\n",
       "      <th>Title</th>\n",
       "    </tr>\n",
       "  </thead>\n",
       "  <tbody>\n",
       "    <tr>\n",
       "      <th>5</th>\n",
       "      <td>0.7906</td>\n",
       "      <td>https://www.etfdailynews.com/2024/02/10/wealth...</td>\n",
       "      <td>WealthPlan Investment Management LLC boosted i...</td>\n",
       "      <td>WealthPlan Investment Management LLC Has $3.22...</td>\n",
       "    </tr>\n",
       "    <tr>\n",
       "      <th>2</th>\n",
       "      <td>0.6249</td>\n",
       "      <td>https://biztoc.com/x/03262f03a85aff0c</td>\n",
       "      <td>In this week's video, I cover need-to-know new...</td>\n",
       "      <td>The Truth About Tesla Stock: Should You Buy Now?</td>\n",
       "    </tr>\n",
       "    <tr>\n",
       "      <th>6</th>\n",
       "      <td>0.4909</td>\n",
       "      <td>https://www.americanthinker.com/blog/2024/02/a...</td>\n",
       "      <td>In 2000, the Nasdaq stock market index, in a m...</td>\n",
       "      <td>Analysis of an asset bubble</td>\n",
       "    </tr>\n",
       "    <tr>\n",
       "      <th>0</th>\n",
       "      <td>0.4767</td>\n",
       "      <td>https://www.forbes.com/sites/bill_stone/2024/0...</td>\n",
       "      <td>Improving expectations for economic growth sen...</td>\n",
       "      <td>Stocks Rise Despite Higher Bond Yields</td>\n",
       "    </tr>\n",
       "    <tr>\n",
       "      <th>4</th>\n",
       "      <td>-0.2960</td>\n",
       "      <td>https://ryueyes11.tistory.com/17650</td>\n",
       "      <td>흔히들 '스쿼트, 크로스핏, 파워리프팅 슈즈'로 알려진 '역도화'하면 '아디다스, ...</td>\n",
       "      <td>국가의 지도자와 기업의 오너에 관한 상관관계</td>\n",
       "    </tr>\n",
       "  </tbody>\n",
       "</table>\n",
       "</div>"
      ],
      "text/plain": [
       "   Sentiment                                                URL  \\\n",
       "5     0.7906  https://www.etfdailynews.com/2024/02/10/wealth...   \n",
       "2     0.6249              https://biztoc.com/x/03262f03a85aff0c   \n",
       "6     0.4909  https://www.americanthinker.com/blog/2024/02/a...   \n",
       "0     0.4767  https://www.forbes.com/sites/bill_stone/2024/0...   \n",
       "4    -0.2960                https://ryueyes11.tistory.com/17650   \n",
       "\n",
       "                                         Description  \\\n",
       "5  WealthPlan Investment Management LLC boosted i...   \n",
       "2  In this week's video, I cover need-to-know new...   \n",
       "6  In 2000, the Nasdaq stock market index, in a m...   \n",
       "0  Improving expectations for economic growth sen...   \n",
       "4  흔히들 '스쿼트, 크로스핏, 파워리프팅 슈즈'로 알려진 '역도화'하면 '아디다스, ...   \n",
       "\n",
       "                                               Title  \n",
       "5  WealthPlan Investment Management LLC Has $3.22...  \n",
       "2   The Truth About Tesla Stock: Should You Buy Now?  \n",
       "6                        Analysis of an asset bubble  \n",
       "0             Stocks Rise Despite Higher Bond Yields  \n",
       "4                           국가의 지도자와 기업의 오너에 관한 상관관계  "
      ]
     },
     "execution_count": 11,
     "metadata": {},
     "output_type": "execute_result"
    }
   ],
   "source": [
    "return_articles.sort_values(by='Sentiment', ascending=False)[['Sentiment','URL', 'Description','Title']].tail()"
   ]
  },
  {
   "cell_type": "code",
   "execution_count": null,
   "metadata": {},
   "outputs": [],
   "source": []
  }
 ],
 "metadata": {
  "colab": {
   "provenance": []
  },
  "kernelspec": {
   "display_name": "Python 3 (ipykernel)",
   "language": "python",
   "name": "python3"
  },
  "language_info": {
   "codemirror_mode": {
    "name": "ipython",
    "version": 3
   },
   "file_extension": ".py",
   "mimetype": "text/x-python",
   "name": "python",
   "nbconvert_exporter": "python",
   "pygments_lexer": "ipython3",
   "version": "3.9.13"
  }
 },
 "nbformat": 4,
 "nbformat_minor": 4
}
